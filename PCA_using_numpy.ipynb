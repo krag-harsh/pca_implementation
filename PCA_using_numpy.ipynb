{
  "nbformat": 4,
  "nbformat_minor": 0,
  "metadata": {
    "colab": {
      "name": "PCA_using_numpy.ipynb",
      "provenance": [],
      "collapsed_sections": [],
      "authorship_tag": "ABX9TyM1d0Vg3a4C4a5Y3TYC4IJQ",
      "include_colab_link": true
    },
    "kernelspec": {
      "name": "python3",
      "display_name": "Python 3"
    }
  },
  "cells": [
    {
      "cell_type": "markdown",
      "metadata": {
        "id": "view-in-github",
        "colab_type": "text"
      },
      "source": [
        "<a href=\"https://colab.research.google.com/github/krag-harsh/pca_implementation/blob/master/PCA_using_numpy.ipynb\" target=\"_parent\"><img src=\"https://colab.research.google.com/assets/colab-badge.svg\" alt=\"Open In Colab\"/></a>"
      ]
    },
    {
      "cell_type": "code",
      "metadata": {
        "id": "tiySoDpoFqQW",
        "colab_type": "code",
        "colab": {}
      },
      "source": [
        "import numpy as np"
      ],
      "execution_count": null,
      "outputs": []
    },
    {
      "cell_type": "markdown",
      "metadata": {
        "id": "2ZqWO_W4EYmh",
        "colab_type": "text"
      },
      "source": [
        "[Reference for numpy.cov()](https://numpy.org/devdocs/reference/generated/numpy.cov.html)\n",
        "\n",
        "[Reference for numpy.linalg.eig()](https://numpy.org/doc/stable/reference/generated/numpy.linalg.eig.html?highlight=linalg%20eig#numpy.linalg.eig)\n",
        "\n",
        "[Reference for numpy.argsort()](https://numpy.org/doc/stable/reference/generated/numpy.argsort.html)"
      ]
    },
    {
      "cell_type": "code",
      "metadata": {
        "id": "frH6YtzCGJTS",
        "colab_type": "code",
        "colab": {}
      },
      "source": [
        "def findpca(data,k):\n",
        "  meanofd=data.mean(axis=0)           #finding mean of the data\n",
        "  data = data - meanofd           #making mean of data = 0\n",
        "\n",
        "  cov = np.cov(data.T) / data.shape[0] #finding covariance matrix \n",
        "\n",
        "  eval, evec = np.linalg.eig(cov)    #finding eigen value and eigen vectors for covariance matrix\n",
        "  #print(\"\\neigen value=\\n\",v,\"\\n\",\"\\neigen vectors=\\n\",evec)\n",
        "\n",
        "  #Sort Eigenvectors According to Eigenvalues\n",
        "  i = eval.argsort()[::-1]      # we sort in desending order and get the indices stored in i\n",
        "  eval = eval[i]               # Use indices on eigv vector\n",
        "  evec = evec[:,i] \n",
        "  \n",
        "  fk=evec[:, :k]          #Get First K Eigenvectors\n",
        "  # Get the dot product of our data with the first K columns of eigenvector matrix(projection matrix) to get the final answer \n",
        "  print(\"Output : \\n\", data.dot(fk))\n",
        "  \n"
      ],
      "execution_count": null,
      "outputs": []
    },
    {
      "cell_type": "code",
      "metadata": {
        "id": "UBgdU4rgGyWd",
        "colab_type": "code",
        "colab": {
          "base_uri": "https://localhost:8080/",
          "height": 139
        },
        "outputId": "52b147ab-369a-49ef-f3b2-231ed92dd666"
      },
      "source": [
        "from google.colab import files\n",
        "#uploaded=files.upload()\n",
        "#data=np.loadtxt(\"filename.txt\")\n",
        "\n",
        "data3=np.array([[11.2, 100 ,2.3], [2, 2,2], [1,2,3],[0, 16,15],[12, 0,3],[0, 23,3]])  #test data\n",
        "k=2   #number of dimenstion we finally want\n",
        "findpca(data3,k)"
      ],
      "execution_count": null,
      "outputs": [
        {
          "output_type": "stream",
          "text": [
            "Output : \n",
            " [[-76.4874707   -1.8546184 ]\n",
            " [ 21.89317316  -1.59361313]\n",
            " [ 21.97987963  -0.18206015]\n",
            " [  8.29663934   9.87035255]\n",
            " [ 23.2154911   -8.04843024]\n",
            " [  1.10228748   1.80836939]]\n"
          ],
          "name": "stdout"
        }
      ]
    },
    {
      "cell_type": "code",
      "metadata": {
        "id": "zmVTAw5tG7Vi",
        "colab_type": "code",
        "colab": {
          "base_uri": "https://localhost:8080/",
          "height": 139
        },
        "outputId": "a2c15439-a275-44a4-ea4c-291a5a29e944"
      },
      "source": [
        "#finding and checking our results using predefined library of sklearn\n",
        "from sklearn.decomposition import PCA\n",
        "pca = PCA(k) # Create a new PCA instance\n",
        "ans=pca.fit_transform(data3)\n",
        "print(\"Output using predefined library: \\n\", ans) # fit and transform"
      ],
      "execution_count": null,
      "outputs": [
        {
          "output_type": "stream",
          "text": [
            "Output using predefined library: \n",
            " [[ 76.4874707   -1.8546184 ]\n",
            " [-21.89317316  -1.59361313]\n",
            " [-21.97987963  -0.18206015]\n",
            " [ -8.29663934   9.87035255]\n",
            " [-23.2154911   -8.04843024]\n",
            " [ -1.10228748   1.80836939]]\n"
          ],
          "name": "stdout"
        }
      ]
    },
    {
      "cell_type": "code",
      "metadata": {
        "id": "smG7MTmmHPi_",
        "colab_type": "code",
        "colab": {}
      },
      "source": [
        ""
      ],
      "execution_count": null,
      "outputs": []
    }
  ]
}